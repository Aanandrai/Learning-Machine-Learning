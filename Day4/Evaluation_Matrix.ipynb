{
  "nbformat": 4,
  "nbformat_minor": 0,
  "metadata": {
    "colab": {
      "provenance": [],
      "toc_visible": true
    },
    "kernelspec": {
      "name": "python3",
      "display_name": "Python 3"
    },
    "language_info": {
      "name": "python"
    }
  },
  "cells": [
    {
      "cell_type": "code",
      "execution_count": 1,
      "metadata": {
        "colab": {
          "base_uri": "https://localhost:8080/"
        },
        "id": "fUmCoKb61Bep",
        "outputId": "68535d78-6a8f-494d-a249-ba7a2bc9c4d7"
      },
      "outputs": [
        {
          "output_type": "stream",
          "name": "stdout",
          "text": [
            "Mean Absolute Error: 0.22000000000000003\n"
          ]
        }
      ],
      "source": [
        "#Mean Absolute Error\n",
        "from sklearn.metrics import mean_absolute_error\n",
        "\n",
        "true_values = [2.5, 3.7, 1.8, 4.0, 5.2]\n",
        "predicted_values = [2.1, 3.9, 1.7, 3.8, 5.0]\n",
        "\n",
        "mae = mean_absolute_error(true_values, predicted_values)\n",
        "print(\"Mean Absolute Error:\", mae)\n"
      ]
    },
    {
      "cell_type": "code",
      "source": [
        "#Mean Squared Error\n",
        "from sklearn.metrics import mean_squared_error\n",
        "\n",
        "true_values = [2.5, 3.7, 1.8, 4.0, 5.2]\n",
        "predicted_values = [2.1, 3.9, 1.7, 3.8, 5.0]\n",
        "\n",
        "mse = mean_squared_error(true_values, predicted_values)\n",
        "print(\"Mean Squared Error:\", mse)"
      ],
      "metadata": {
        "colab": {
          "base_uri": "https://localhost:8080/"
        },
        "id": "6lX1POm51Cq9",
        "outputId": "3f502942-abb6-484a-cc31-405aac995264"
      },
      "execution_count": 2,
      "outputs": [
        {
          "output_type": "stream",
          "name": "stdout",
          "text": [
            "Mean Squared Error: 0.057999999999999996\n"
          ]
        }
      ]
    },
    {
      "cell_type": "code",
      "source": [
        "#Root Mean Squared Error (RMSE)\n",
        "from sklearn.linear_model import LinearRegression\n",
        "from sklearn.metrics import mean_squared_error\n",
        "import numpy as np\n",
        "\n",
        "# Sample data\n",
        "true_prices = np.array([250000, 300000, 200000, 400000, 350000])\n",
        "predicted_prices = np.array([240000, 310000, 210000, 380000, 340000])\n",
        "\n",
        "# Calculate RMSE\n",
        "rmse = np.sqrt(mean_squared_error(true_prices, predicted_prices))\n",
        "\n",
        "print(\"Root Mean Squared Error (RMSE):\", rmse)"
      ],
      "metadata": {
        "colab": {
          "base_uri": "https://localhost:8080/"
        },
        "id": "uqkV94g01Nb8",
        "outputId": "d92732bc-8713-4b20-b8c6-17931629de77"
      },
      "execution_count": 3,
      "outputs": [
        {
          "output_type": "stream",
          "name": "stdout",
          "text": [
            "Root Mean Squared Error (RMSE): 12649.110640673518\n"
          ]
        }
      ]
    },
    {
      "cell_type": "code",
      "source": [
        "#R-squared (R²) Score\n",
        "from sklearn.metrics import r2_score\n",
        "\n",
        "true_values = [2.5, 3.7, 1.8, 4.0, 5.2]\n",
        "predicted_values = [2.1, 3.9, 1.7, 3.8, 5.0]\n",
        "\n",
        "r2 = r2_score(true_values, predicted_values)\n",
        "print(\"R-squared (R²) Score:\", r2)"
      ],
      "metadata": {
        "colab": {
          "base_uri": "https://localhost:8080/"
        },
        "id": "XzM2K43R1eLj",
        "outputId": "dc2b4061-b684-4f89-d15f-ba0314b73d7d"
      },
      "execution_count": 4,
      "outputs": [
        {
          "output_type": "stream",
          "name": "stdout",
          "text": [
            "R-squared (R²) Score: 0.9588769143505389\n"
          ]
        }
      ]
    },
    {
      "cell_type": "code",
      "source": [
        "from sklearn.metrics import mean_absolute_error, mean_squared_error, r2_score\n",
        "from sklearn.linear_model import LinearRegression\n",
        "from sklearn.model_selection import train_test_split\n",
        "import numpy as np\n",
        "\n",
        "lr=LinearRegression()\n",
        "# Sample Data\n",
        "# Let's generate some random data for illustration\n",
        "np.random.seed(0)\n",
        "X = np.random.rand(100, 3)  # 100 data points and 3 features (predictors)\n",
        "y = X.dot(np.array([2, -1, 1])) + np.random.normal(0, 0.5, 100)  # Linear relation with some noise\n",
        "\n",
        "# Split the data into training and testing sets\n",
        "X_train, X_test, y_train, y_test = train_test_split(X, y, test_size=0.2, random_state=0)\n",
        "\n",
        "lr.fit(X_train,y_train)\n",
        "# Assume lr is a trained LinearRegression model and X_test, y_test are the test data\n",
        "y_pred = lr.predict(X_test)\n",
        "r2 = r2_score(y_test, y_pred)\n",
        "n = len(y_test)  # Number of data points\n",
        "p = X_test.shape[1]\n",
        "adjusted_r2 = 1 - ((1 - r2) * (n - 1) / (n - p - 1))\n",
        "print(\"Adjusted R2:\", adjusted_r2)\n"
      ],
      "metadata": {
        "colab": {
          "base_uri": "https://localhost:8080/"
        },
        "id": "kwFXfG734Kqi",
        "outputId": "a7bb27eb-dfb2-4365-84ab-e8b8d0ee520e"
      },
      "execution_count": 8,
      "outputs": [
        {
          "output_type": "stream",
          "name": "stdout",
          "text": [
            "Adjusted R2: 0.7324748515592314\n"
          ]
        }
      ]
    }
  ]
}